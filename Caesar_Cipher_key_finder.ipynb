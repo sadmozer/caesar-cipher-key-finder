{
  "cells": [
    {
      "cell_type": "markdown",
      "metadata": {
        "id": "view-in-github",
        "colab_type": "text"
      },
      "source": [
        "<a href=\"https://colab.research.google.com/github/sadmozer/caesar-cipher-key-finder/blob/main/Caesar_Cipher_key_finder.ipynb\" target=\"_parent\"><img src=\"https://colab.research.google.com/assets/colab-badge.svg\" alt=\"Open In Colab\"/></a>"
      ]
    },
    {
      "cell_type": "markdown",
      "metadata": {
        "id": "jbdz-s1C-Dfx"
      },
      "source": [
        "# Caesar Cipher key finder\n",
        "----------"
      ]
    },
    {
      "cell_type": "markdown",
      "metadata": {
        "id": "5YRm4--E-DgA"
      },
      "source": [
        "First, we have to encrypt an example message"
      ]
    },
    {
      "cell_type": "markdown",
      "metadata": {
        "id": "xUIM5N-M-DgC"
      },
      "source": [
        "## Encrypt the message"
      ]
    },
    {
      "cell_type": "code",
      "execution_count": 1,
      "metadata": {
        "scrolled": false,
        "id": "Gsrt0mSp-DgE"
      },
      "outputs": [],
      "source": [
        "import string\n",
        "\n",
        "alphabet = list(string.ascii_lowercase)\n",
        "\n",
        "def encode(text, rot):\n",
        "    out = []\n",
        "    for c in list(text):\n",
        "        if c.islower() and c in alphabet:\n",
        "            # The character is lowercase\n",
        "            pos_in_alphabet = alphabet.index(c)\n",
        "            pos_shifted = (pos_in_alphabet + rot) % 26\n",
        "            out.append(alphabet[pos_shifted])\n",
        "        elif c.lower() in alphabet:\n",
        "            # The character is uppercase\n",
        "            pos_in_alphabet = alphabet.index(c.lower())\n",
        "            pos_shifted = (pos_in_alphabet + rot) % 26\n",
        "            out.append(alphabet[pos_shifted].upper())\n",
        "        else:\n",
        "            # Other characters\n",
        "            out.append(c)\n",
        "    return \"\".join(out)"
      ]
    },
    {
      "cell_type": "markdown",
      "metadata": {
        "id": "MevWTX13-DgJ"
      },
      "source": [
        "Now we can encrypt any text"
      ]
    },
    {
      "cell_type": "code",
      "execution_count": 2,
      "metadata": {
        "scrolled": true,
        "id": "KdLf4Wpd-DgK",
        "outputId": "96183733-00fb-4828-a185-18bbf8f7cda8",
        "colab": {
          "referenced_widgets": [
            "b76c19097d034179a17eaa0343eaeaea",
            "958d580592ec4ecea074bd7aca5fdc7a",
            "01b127f5fff647bf82e37beb022528a5",
            "46e86a31569841ac93de56282cc72687",
            "aeedaa3128074e64b51b0a928ecceab9",
            "7aab096c63934e338801ca9cb8e9a995",
            "7cfff7db24134b73bbe00211c4252e40",
            "e033e7c35033440d9f51e5e5d8e81fd4",
            "a206dee0585c489d86b7c256d6b26f2b",
            "abb70ef01e5e488cb88af03caf67ec55",
            "d44d640424334625b0b9b3d596a41d4e",
            "0752a4c5489040f88e6c40fa6a177385",
            "f82f3de5bff04c4c94f0d358833c6feb",
            "5ec992b084ff4f4c9e09236ffe4b36be",
            "85b055f072a74ec497dec119b75fb455"
          ],
          "base_uri": "https://localhost:8080/",
          "height": 203
        }
      },
      "outputs": [
        {
          "output_type": "display_data",
          "data": {
            "text/plain": [
              "HBox(children=(interactive(children=(Textarea(value='', description='text', layout=Layout(height='150px'), pla…"
            ],
            "application/vnd.jupyter.widget-view+json": {
              "version_major": 2,
              "version_minor": 0,
              "model_id": "b76c19097d034179a17eaa0343eaeaea"
            }
          },
          "metadata": {}
        }
      ],
      "source": [
        "from ipywidgets import widgets, interactive\n",
        "\n",
        "output_area = widgets.Textarea(layout={'height':''}, placeholder=\"Output\")\n",
        "input_text = widgets.Textarea(layout={'height':'150px'}, placeholder=\"Any text you like\")\n",
        "input_rotation = widgets.IntSlider(min=0, max=25, step=1, value=0)\n",
        "def text_encoder(text, rot):\n",
        "    output_area.value = encode(text, rot)\n",
        "\n",
        "input_area = interactive(text_encoder, text=input_text, rot=input_rotation)\n",
        "widgets.HBox([input_area, output_area])"
      ]
    },
    {
      "cell_type": "markdown",
      "metadata": {
        "id": "ivYKMcK3-DgO"
      },
      "source": [
        "## Finding the key using cross-entropy"
      ]
    },
    {
      "cell_type": "markdown",
      "metadata": {
        "id": "Wmi8rSGP-DgR"
      },
      "source": [
        "Given two discrete distributions $p$, $q$ we define the **cross-entropy** of $q$ relative to $p$ over the set $X$:\n",
        "\n",
        "$H(p, q) = -\\sum_{x\\in X}{} p(x)\\space log(q(x))$"
      ]
    },
    {
      "cell_type": "code",
      "execution_count": 3,
      "metadata": {
        "id": "csJKeKty-DgT"
      },
      "outputs": [],
      "source": [
        "import numpy as np\n",
        "\n",
        "def cross_entropy(p, q):\n",
        "    return -np.sum(p*np.log(q, where=q>0, out=np.zeros(q.size)))"
      ]
    },
    {
      "cell_type": "markdown",
      "metadata": {
        "id": "chQwanYM-DgW"
      },
      "source": [
        "This is the frequency of the 26 letters in the English alphabet. For example, given any English text if i took one letter at random that choice would be, with a probability of 8.167%, the letter *a*."
      ]
    },
    {
      "cell_type": "code",
      "execution_count": 4,
      "metadata": {
        "id": "SjihTDaM-DgX"
      },
      "outputs": [],
      "source": [
        "frequencies_english = np.array([0.08167, 0.01492, 0.02782, 0.04253, 0.12702, 0.02228, 0.02015,\n",
        "    0.06094, 0.06966, 0.00153, 0.00772, 0.04025, 0.02406,\n",
        "    0.06749, 0.07507, 0.01929, 0.00095, 0.05987, 0.06327, 0.09056,\n",
        "    0.02758, 0.00978, 0.02360, 0.00150, 0.01974, 0.00074])"
      ]
    },
    {
      "cell_type": "markdown",
      "metadata": {
        "id": "tw5XPSLU-DgZ"
      },
      "source": [
        "This particular distribution will be our $q$.\n",
        "\n",
        "The distribution $p$ is very similar to $q$: the only thing that changes is that it is the frequency of the letters of a **text** and not of all the existing English words."
      ]
    },
    {
      "cell_type": "code",
      "execution_count": 5,
      "metadata": {
        "scrolled": false,
        "id": "SdDQc-sb-Dga"
      },
      "outputs": [],
      "source": [
        "def count_occurrencies(text):\n",
        "    occ_in_text = [0 for i in range(26)]\n",
        "\n",
        "    for c in list(text):\n",
        "        if(c.lower() in alphabet):\n",
        "            occ_in_text[alphabet.index(c.lower())] += 1\n",
        "    return occ_in_text\n",
        "\n",
        "def decode(text):\n",
        "    entropies = []\n",
        "    for k in range(26):\n",
        "        curr_text = encode(text, k)\n",
        "        occ = np.array(count_occurrencies(curr_text))\n",
        "        tot_occ = np.sum(occ)\n",
        "        frequencies_in_text = np.vectorize(lambda x: x/tot_occ)(occ)\n",
        "        entropies.append(cross_entropy(frequencies_in_text, frequencies_english))\n",
        "    min_entropy = min(entropies)\n",
        "    prediction = entropies.index(min_entropy)\n",
        "    return prediction"
      ]
    },
    {
      "cell_type": "markdown",
      "metadata": {
        "id": "nNyQKgh6-Dgc"
      },
      "source": [
        "For an English text of *moderate length* (at least 5 characters) the algorithm should work"
      ]
    },
    {
      "cell_type": "code",
      "execution_count": 6,
      "metadata": {
        "id": "7lYl1HZz-Dgd",
        "outputId": "48e2b45e-86d6-4eaa-c000-cbaf451c4a50",
        "colab": {
          "referenced_widgets": [
            "244b2d27fa8b4e32a040da02c86b7a1f",
            "6b7f8a082f894782b95ae2a854051273",
            "d92f108dd92d4d2f9a16ea3253dbf53b",
            "829376f1b0d140599c1dcb6bb5df6269",
            "7c02733d7e8f4af595d7bb50bb91eaf8",
            "dfeaca24b40b463b99129af7eb7d2ce9",
            "14ed6f7a0b824a76b21e5c3789b120c0",
            "d04690ae467d432fab0b474a1f002370",
            "e8c1d9b6926d4fda848c6fa5ac27729b",
            "bd97dd882d29474e8c5dd9a771e0bef1",
            "886f3abafb664e6cb8e6ba03ee127204",
            "f4d6373e6e534a72b0ab9d6e88221f68"
          ],
          "base_uri": "https://localhost:8080/",
          "height": 188
        }
      },
      "outputs": [
        {
          "output_type": "display_data",
          "data": {
            "text/plain": [
              "HBox(children=(interactive(children=(Textarea(value='', description='text', layout=Layout(height='150px'), pla…"
            ],
            "application/vnd.jupyter.widget-view+json": {
              "version_major": 2,
              "version_minor": 0,
              "model_id": "244b2d27fa8b4e32a040da02c86b7a1f"
            }
          },
          "metadata": {}
        }
      ],
      "source": [
        "output_area2 = widgets.Textarea(layout={'height':'150px'}, placeholder=\"Output\")\n",
        "def text_decoder(text):\n",
        "    if(text):\n",
        "        prediction = decode(text)\n",
        "        output_area2.value = encode(text, prediction)\n",
        "        print(f\"Predicted key: {26-prediction}\")\n",
        "    else:\n",
        "        output_area2.value = \"\"\n",
        "\n",
        "input_text2 = interactive(text_decoder, text=widgets.Textarea(layout={'height':'150px'}, placeholder=\"Enter here the encrypted message\"))\n",
        "\n",
        "widgets.HBox([input_text2, output_area2])"
      ]
    }
  ],
  "metadata": {
    "kernelspec": {
      "display_name": "Python 3",
      "language": "python",
      "name": "python3"
    },
    "language_info": {
      "codemirror_mode": {
        "name": "ipython",
        "version": 3
      },
      "file_extension": ".py",
      "mimetype": "text/x-python",
      "name": "python",
      "nbconvert_exporter": "python",
      "pygments_lexer": "ipython3",
      "version": "3.7.4"
    },
    "colab": {
      "name": "Caesar Cipher key finder.ipynb",
      "provenance": [],
      "collapsed_sections": [],
      "include_colab_link": true
    },
    "widgets": {
      "application/vnd.jupyter.widget-state+json": {
        "b76c19097d034179a17eaa0343eaeaea": {
          "model_module": "@jupyter-widgets/controls",
          "model_name": "HBoxModel",
          "model_module_version": "1.5.0",
          "state": {
            "_dom_classes": [],
            "_model_module": "@jupyter-widgets/controls",
            "_model_module_version": "1.5.0",
            "_model_name": "HBoxModel",
            "_view_count": null,
            "_view_module": "@jupyter-widgets/controls",
            "_view_module_version": "1.5.0",
            "_view_name": "HBoxView",
            "box_style": "",
            "children": [
              "IPY_MODEL_958d580592ec4ecea074bd7aca5fdc7a",
              "IPY_MODEL_01b127f5fff647bf82e37beb022528a5"
            ],
            "layout": "IPY_MODEL_46e86a31569841ac93de56282cc72687"
          }
        },
        "958d580592ec4ecea074bd7aca5fdc7a": {
          "model_module": "@jupyter-widgets/controls",
          "model_name": "VBoxModel",
          "model_module_version": "1.5.0",
          "state": {
            "_dom_classes": [
              "widget-interact"
            ],
            "_model_module": "@jupyter-widgets/controls",
            "_model_module_version": "1.5.0",
            "_model_name": "VBoxModel",
            "_view_count": null,
            "_view_module": "@jupyter-widgets/controls",
            "_view_module_version": "1.5.0",
            "_view_name": "VBoxView",
            "box_style": "",
            "children": [
              "IPY_MODEL_aeedaa3128074e64b51b0a928ecceab9",
              "IPY_MODEL_7aab096c63934e338801ca9cb8e9a995",
              "IPY_MODEL_7cfff7db24134b73bbe00211c4252e40"
            ],
            "layout": "IPY_MODEL_e033e7c35033440d9f51e5e5d8e81fd4"
          }
        },
        "01b127f5fff647bf82e37beb022528a5": {
          "model_module": "@jupyter-widgets/controls",
          "model_name": "TextareaModel",
          "model_module_version": "1.5.0",
          "state": {
            "_dom_classes": [],
            "_model_module": "@jupyter-widgets/controls",
            "_model_module_version": "1.5.0",
            "_model_name": "TextareaModel",
            "_view_count": null,
            "_view_module": "@jupyter-widgets/controls",
            "_view_module_version": "1.5.0",
            "_view_name": "TextareaView",
            "continuous_update": true,
            "description": "",
            "description_tooltip": null,
            "disabled": false,
            "layout": "IPY_MODEL_a206dee0585c489d86b7c256d6b26f2b",
            "placeholder": "Output",
            "rows": null,
            "style": "IPY_MODEL_abb70ef01e5e488cb88af03caf67ec55",
            "value": "Sdc'i Epcxr."
          }
        },
        "46e86a31569841ac93de56282cc72687": {
          "model_module": "@jupyter-widgets/base",
          "model_name": "LayoutModel",
          "model_module_version": "1.2.0",
          "state": {
            "_model_module": "@jupyter-widgets/base",
            "_model_module_version": "1.2.0",
            "_model_name": "LayoutModel",
            "_view_count": null,
            "_view_module": "@jupyter-widgets/base",
            "_view_module_version": "1.2.0",
            "_view_name": "LayoutView",
            "align_content": null,
            "align_items": null,
            "align_self": null,
            "border": null,
            "bottom": null,
            "display": null,
            "flex": null,
            "flex_flow": null,
            "grid_area": null,
            "grid_auto_columns": null,
            "grid_auto_flow": null,
            "grid_auto_rows": null,
            "grid_column": null,
            "grid_gap": null,
            "grid_row": null,
            "grid_template_areas": null,
            "grid_template_columns": null,
            "grid_template_rows": null,
            "height": null,
            "justify_content": null,
            "justify_items": null,
            "left": null,
            "margin": null,
            "max_height": null,
            "max_width": null,
            "min_height": null,
            "min_width": null,
            "object_fit": null,
            "object_position": null,
            "order": null,
            "overflow": null,
            "overflow_x": null,
            "overflow_y": null,
            "padding": null,
            "right": null,
            "top": null,
            "visibility": null,
            "width": null
          }
        },
        "aeedaa3128074e64b51b0a928ecceab9": {
          "model_module": "@jupyter-widgets/controls",
          "model_name": "TextareaModel",
          "model_module_version": "1.5.0",
          "state": {
            "_dom_classes": [],
            "_model_module": "@jupyter-widgets/controls",
            "_model_module_version": "1.5.0",
            "_model_name": "TextareaModel",
            "_view_count": null,
            "_view_module": "@jupyter-widgets/controls",
            "_view_module_version": "1.5.0",
            "_view_name": "TextareaView",
            "continuous_update": true,
            "description": "text",
            "description_tooltip": null,
            "disabled": false,
            "layout": "IPY_MODEL_d44d640424334625b0b9b3d596a41d4e",
            "placeholder": "Any text you like",
            "rows": null,
            "style": "IPY_MODEL_0752a4c5489040f88e6c40fa6a177385",
            "value": "Don't Panic."
          }
        },
        "7aab096c63934e338801ca9cb8e9a995": {
          "model_module": "@jupyter-widgets/controls",
          "model_name": "IntSliderModel",
          "model_module_version": "1.5.0",
          "state": {
            "_dom_classes": [],
            "_model_module": "@jupyter-widgets/controls",
            "_model_module_version": "1.5.0",
            "_model_name": "IntSliderModel",
            "_view_count": null,
            "_view_module": "@jupyter-widgets/controls",
            "_view_module_version": "1.5.0",
            "_view_name": "IntSliderView",
            "continuous_update": true,
            "description": "rot",
            "description_tooltip": null,
            "disabled": false,
            "layout": "IPY_MODEL_f82f3de5bff04c4c94f0d358833c6feb",
            "max": 25,
            "min": 0,
            "orientation": "horizontal",
            "readout": true,
            "readout_format": "d",
            "step": 1,
            "style": "IPY_MODEL_5ec992b084ff4f4c9e09236ffe4b36be",
            "value": 15
          }
        },
        "7cfff7db24134b73bbe00211c4252e40": {
          "model_module": "@jupyter-widgets/output",
          "model_name": "OutputModel",
          "model_module_version": "1.0.0",
          "state": {
            "_dom_classes": [],
            "_model_module": "@jupyter-widgets/output",
            "_model_module_version": "1.0.0",
            "_model_name": "OutputModel",
            "_view_count": null,
            "_view_module": "@jupyter-widgets/output",
            "_view_module_version": "1.0.0",
            "_view_name": "OutputView",
            "layout": "IPY_MODEL_85b055f072a74ec497dec119b75fb455",
            "msg_id": "",
            "outputs": []
          }
        },
        "e033e7c35033440d9f51e5e5d8e81fd4": {
          "model_module": "@jupyter-widgets/base",
          "model_name": "LayoutModel",
          "model_module_version": "1.2.0",
          "state": {
            "_model_module": "@jupyter-widgets/base",
            "_model_module_version": "1.2.0",
            "_model_name": "LayoutModel",
            "_view_count": null,
            "_view_module": "@jupyter-widgets/base",
            "_view_module_version": "1.2.0",
            "_view_name": "LayoutView",
            "align_content": null,
            "align_items": null,
            "align_self": null,
            "border": null,
            "bottom": null,
            "display": null,
            "flex": null,
            "flex_flow": null,
            "grid_area": null,
            "grid_auto_columns": null,
            "grid_auto_flow": null,
            "grid_auto_rows": null,
            "grid_column": null,
            "grid_gap": null,
            "grid_row": null,
            "grid_template_areas": null,
            "grid_template_columns": null,
            "grid_template_rows": null,
            "height": null,
            "justify_content": null,
            "justify_items": null,
            "left": null,
            "margin": null,
            "max_height": null,
            "max_width": null,
            "min_height": null,
            "min_width": null,
            "object_fit": null,
            "object_position": null,
            "order": null,
            "overflow": null,
            "overflow_x": null,
            "overflow_y": null,
            "padding": null,
            "right": null,
            "top": null,
            "visibility": null,
            "width": null
          }
        },
        "a206dee0585c489d86b7c256d6b26f2b": {
          "model_module": "@jupyter-widgets/base",
          "model_name": "LayoutModel",
          "model_module_version": "1.2.0",
          "state": {
            "_model_module": "@jupyter-widgets/base",
            "_model_module_version": "1.2.0",
            "_model_name": "LayoutModel",
            "_view_count": null,
            "_view_module": "@jupyter-widgets/base",
            "_view_module_version": "1.2.0",
            "_view_name": "LayoutView",
            "align_content": null,
            "align_items": null,
            "align_self": null,
            "border": null,
            "bottom": null,
            "display": null,
            "flex": null,
            "flex_flow": null,
            "grid_area": null,
            "grid_auto_columns": null,
            "grid_auto_flow": null,
            "grid_auto_rows": null,
            "grid_column": null,
            "grid_gap": null,
            "grid_row": null,
            "grid_template_areas": null,
            "grid_template_columns": null,
            "grid_template_rows": null,
            "height": "",
            "justify_content": null,
            "justify_items": null,
            "left": null,
            "margin": null,
            "max_height": null,
            "max_width": null,
            "min_height": null,
            "min_width": null,
            "object_fit": null,
            "object_position": null,
            "order": null,
            "overflow": null,
            "overflow_x": null,
            "overflow_y": null,
            "padding": null,
            "right": null,
            "top": null,
            "visibility": null,
            "width": null
          }
        },
        "abb70ef01e5e488cb88af03caf67ec55": {
          "model_module": "@jupyter-widgets/controls",
          "model_name": "DescriptionStyleModel",
          "model_module_version": "1.5.0",
          "state": {
            "_model_module": "@jupyter-widgets/controls",
            "_model_module_version": "1.5.0",
            "_model_name": "DescriptionStyleModel",
            "_view_count": null,
            "_view_module": "@jupyter-widgets/base",
            "_view_module_version": "1.2.0",
            "_view_name": "StyleView",
            "description_width": ""
          }
        },
        "d44d640424334625b0b9b3d596a41d4e": {
          "model_module": "@jupyter-widgets/base",
          "model_name": "LayoutModel",
          "model_module_version": "1.2.0",
          "state": {
            "_model_module": "@jupyter-widgets/base",
            "_model_module_version": "1.2.0",
            "_model_name": "LayoutModel",
            "_view_count": null,
            "_view_module": "@jupyter-widgets/base",
            "_view_module_version": "1.2.0",
            "_view_name": "LayoutView",
            "align_content": null,
            "align_items": null,
            "align_self": null,
            "border": null,
            "bottom": null,
            "display": null,
            "flex": null,
            "flex_flow": null,
            "grid_area": null,
            "grid_auto_columns": null,
            "grid_auto_flow": null,
            "grid_auto_rows": null,
            "grid_column": null,
            "grid_gap": null,
            "grid_row": null,
            "grid_template_areas": null,
            "grid_template_columns": null,
            "grid_template_rows": null,
            "height": "150px",
            "justify_content": null,
            "justify_items": null,
            "left": null,
            "margin": null,
            "max_height": null,
            "max_width": null,
            "min_height": null,
            "min_width": null,
            "object_fit": null,
            "object_position": null,
            "order": null,
            "overflow": null,
            "overflow_x": null,
            "overflow_y": null,
            "padding": null,
            "right": null,
            "top": null,
            "visibility": null,
            "width": null
          }
        },
        "0752a4c5489040f88e6c40fa6a177385": {
          "model_module": "@jupyter-widgets/controls",
          "model_name": "DescriptionStyleModel",
          "model_module_version": "1.5.0",
          "state": {
            "_model_module": "@jupyter-widgets/controls",
            "_model_module_version": "1.5.0",
            "_model_name": "DescriptionStyleModel",
            "_view_count": null,
            "_view_module": "@jupyter-widgets/base",
            "_view_module_version": "1.2.0",
            "_view_name": "StyleView",
            "description_width": ""
          }
        },
        "f82f3de5bff04c4c94f0d358833c6feb": {
          "model_module": "@jupyter-widgets/base",
          "model_name": "LayoutModel",
          "model_module_version": "1.2.0",
          "state": {
            "_model_module": "@jupyter-widgets/base",
            "_model_module_version": "1.2.0",
            "_model_name": "LayoutModel",
            "_view_count": null,
            "_view_module": "@jupyter-widgets/base",
            "_view_module_version": "1.2.0",
            "_view_name": "LayoutView",
            "align_content": null,
            "align_items": null,
            "align_self": null,
            "border": null,
            "bottom": null,
            "display": null,
            "flex": null,
            "flex_flow": null,
            "grid_area": null,
            "grid_auto_columns": null,
            "grid_auto_flow": null,
            "grid_auto_rows": null,
            "grid_column": null,
            "grid_gap": null,
            "grid_row": null,
            "grid_template_areas": null,
            "grid_template_columns": null,
            "grid_template_rows": null,
            "height": null,
            "justify_content": null,
            "justify_items": null,
            "left": null,
            "margin": null,
            "max_height": null,
            "max_width": null,
            "min_height": null,
            "min_width": null,
            "object_fit": null,
            "object_position": null,
            "order": null,
            "overflow": null,
            "overflow_x": null,
            "overflow_y": null,
            "padding": null,
            "right": null,
            "top": null,
            "visibility": null,
            "width": null
          }
        },
        "5ec992b084ff4f4c9e09236ffe4b36be": {
          "model_module": "@jupyter-widgets/controls",
          "model_name": "SliderStyleModel",
          "model_module_version": "1.5.0",
          "state": {
            "_model_module": "@jupyter-widgets/controls",
            "_model_module_version": "1.5.0",
            "_model_name": "SliderStyleModel",
            "_view_count": null,
            "_view_module": "@jupyter-widgets/base",
            "_view_module_version": "1.2.0",
            "_view_name": "StyleView",
            "description_width": "",
            "handle_color": null
          }
        },
        "85b055f072a74ec497dec119b75fb455": {
          "model_module": "@jupyter-widgets/base",
          "model_name": "LayoutModel",
          "model_module_version": "1.2.0",
          "state": {
            "_model_module": "@jupyter-widgets/base",
            "_model_module_version": "1.2.0",
            "_model_name": "LayoutModel",
            "_view_count": null,
            "_view_module": "@jupyter-widgets/base",
            "_view_module_version": "1.2.0",
            "_view_name": "LayoutView",
            "align_content": null,
            "align_items": null,
            "align_self": null,
            "border": null,
            "bottom": null,
            "display": null,
            "flex": null,
            "flex_flow": null,
            "grid_area": null,
            "grid_auto_columns": null,
            "grid_auto_flow": null,
            "grid_auto_rows": null,
            "grid_column": null,
            "grid_gap": null,
            "grid_row": null,
            "grid_template_areas": null,
            "grid_template_columns": null,
            "grid_template_rows": null,
            "height": null,
            "justify_content": null,
            "justify_items": null,
            "left": null,
            "margin": null,
            "max_height": null,
            "max_width": null,
            "min_height": null,
            "min_width": null,
            "object_fit": null,
            "object_position": null,
            "order": null,
            "overflow": null,
            "overflow_x": null,
            "overflow_y": null,
            "padding": null,
            "right": null,
            "top": null,
            "visibility": null,
            "width": null
          }
        },
        "244b2d27fa8b4e32a040da02c86b7a1f": {
          "model_module": "@jupyter-widgets/controls",
          "model_name": "HBoxModel",
          "model_module_version": "1.5.0",
          "state": {
            "_dom_classes": [],
            "_model_module": "@jupyter-widgets/controls",
            "_model_module_version": "1.5.0",
            "_model_name": "HBoxModel",
            "_view_count": null,
            "_view_module": "@jupyter-widgets/controls",
            "_view_module_version": "1.5.0",
            "_view_name": "HBoxView",
            "box_style": "",
            "children": [
              "IPY_MODEL_6b7f8a082f894782b95ae2a854051273",
              "IPY_MODEL_d92f108dd92d4d2f9a16ea3253dbf53b"
            ],
            "layout": "IPY_MODEL_829376f1b0d140599c1dcb6bb5df6269"
          }
        },
        "6b7f8a082f894782b95ae2a854051273": {
          "model_module": "@jupyter-widgets/controls",
          "model_name": "VBoxModel",
          "model_module_version": "1.5.0",
          "state": {
            "_dom_classes": [
              "widget-interact"
            ],
            "_model_module": "@jupyter-widgets/controls",
            "_model_module_version": "1.5.0",
            "_model_name": "VBoxModel",
            "_view_count": null,
            "_view_module": "@jupyter-widgets/controls",
            "_view_module_version": "1.5.0",
            "_view_name": "VBoxView",
            "box_style": "",
            "children": [
              "IPY_MODEL_7c02733d7e8f4af595d7bb50bb91eaf8",
              "IPY_MODEL_dfeaca24b40b463b99129af7eb7d2ce9"
            ],
            "layout": "IPY_MODEL_14ed6f7a0b824a76b21e5c3789b120c0"
          }
        },
        "d92f108dd92d4d2f9a16ea3253dbf53b": {
          "model_module": "@jupyter-widgets/controls",
          "model_name": "TextareaModel",
          "model_module_version": "1.5.0",
          "state": {
            "_dom_classes": [],
            "_model_module": "@jupyter-widgets/controls",
            "_model_module_version": "1.5.0",
            "_model_name": "TextareaModel",
            "_view_count": null,
            "_view_module": "@jupyter-widgets/controls",
            "_view_module_version": "1.5.0",
            "_view_name": "TextareaView",
            "continuous_update": true,
            "description": "",
            "description_tooltip": null,
            "disabled": false,
            "layout": "IPY_MODEL_d04690ae467d432fab0b474a1f002370",
            "placeholder": "Output",
            "rows": null,
            "style": "IPY_MODEL_e8c1d9b6926d4fda848c6fa5ac27729b",
            "value": "Don't Panic."
          }
        },
        "829376f1b0d140599c1dcb6bb5df6269": {
          "model_module": "@jupyter-widgets/base",
          "model_name": "LayoutModel",
          "model_module_version": "1.2.0",
          "state": {
            "_model_module": "@jupyter-widgets/base",
            "_model_module_version": "1.2.0",
            "_model_name": "LayoutModel",
            "_view_count": null,
            "_view_module": "@jupyter-widgets/base",
            "_view_module_version": "1.2.0",
            "_view_name": "LayoutView",
            "align_content": null,
            "align_items": null,
            "align_self": null,
            "border": null,
            "bottom": null,
            "display": null,
            "flex": null,
            "flex_flow": null,
            "grid_area": null,
            "grid_auto_columns": null,
            "grid_auto_flow": null,
            "grid_auto_rows": null,
            "grid_column": null,
            "grid_gap": null,
            "grid_row": null,
            "grid_template_areas": null,
            "grid_template_columns": null,
            "grid_template_rows": null,
            "height": null,
            "justify_content": null,
            "justify_items": null,
            "left": null,
            "margin": null,
            "max_height": null,
            "max_width": null,
            "min_height": null,
            "min_width": null,
            "object_fit": null,
            "object_position": null,
            "order": null,
            "overflow": null,
            "overflow_x": null,
            "overflow_y": null,
            "padding": null,
            "right": null,
            "top": null,
            "visibility": null,
            "width": null
          }
        },
        "7c02733d7e8f4af595d7bb50bb91eaf8": {
          "model_module": "@jupyter-widgets/controls",
          "model_name": "TextareaModel",
          "model_module_version": "1.5.0",
          "state": {
            "_dom_classes": [],
            "_model_module": "@jupyter-widgets/controls",
            "_model_module_version": "1.5.0",
            "_model_name": "TextareaModel",
            "_view_count": null,
            "_view_module": "@jupyter-widgets/controls",
            "_view_module_version": "1.5.0",
            "_view_name": "TextareaView",
            "continuous_update": true,
            "description": "text",
            "description_tooltip": null,
            "disabled": false,
            "layout": "IPY_MODEL_bd97dd882d29474e8c5dd9a771e0bef1",
            "placeholder": "Enter here the encrypted message",
            "rows": null,
            "style": "IPY_MODEL_886f3abafb664e6cb8e6ba03ee127204",
            "value": "Sdc'i Epcxr."
          }
        },
        "dfeaca24b40b463b99129af7eb7d2ce9": {
          "model_module": "@jupyter-widgets/output",
          "model_name": "OutputModel",
          "model_module_version": "1.0.0",
          "state": {
            "_dom_classes": [],
            "_model_module": "@jupyter-widgets/output",
            "_model_module_version": "1.0.0",
            "_model_name": "OutputModel",
            "_view_count": null,
            "_view_module": "@jupyter-widgets/output",
            "_view_module_version": "1.0.0",
            "_view_name": "OutputView",
            "layout": "IPY_MODEL_f4d6373e6e534a72b0ab9d6e88221f68",
            "msg_id": "",
            "outputs": [
              {
                "output_type": "stream",
                "name": "stdout",
                "text": [
                  "Predicted key: 15\n"
                ]
              }
            ]
          }
        },
        "14ed6f7a0b824a76b21e5c3789b120c0": {
          "model_module": "@jupyter-widgets/base",
          "model_name": "LayoutModel",
          "model_module_version": "1.2.0",
          "state": {
            "_model_module": "@jupyter-widgets/base",
            "_model_module_version": "1.2.0",
            "_model_name": "LayoutModel",
            "_view_count": null,
            "_view_module": "@jupyter-widgets/base",
            "_view_module_version": "1.2.0",
            "_view_name": "LayoutView",
            "align_content": null,
            "align_items": null,
            "align_self": null,
            "border": null,
            "bottom": null,
            "display": null,
            "flex": null,
            "flex_flow": null,
            "grid_area": null,
            "grid_auto_columns": null,
            "grid_auto_flow": null,
            "grid_auto_rows": null,
            "grid_column": null,
            "grid_gap": null,
            "grid_row": null,
            "grid_template_areas": null,
            "grid_template_columns": null,
            "grid_template_rows": null,
            "height": null,
            "justify_content": null,
            "justify_items": null,
            "left": null,
            "margin": null,
            "max_height": null,
            "max_width": null,
            "min_height": null,
            "min_width": null,
            "object_fit": null,
            "object_position": null,
            "order": null,
            "overflow": null,
            "overflow_x": null,
            "overflow_y": null,
            "padding": null,
            "right": null,
            "top": null,
            "visibility": null,
            "width": null
          }
        },
        "d04690ae467d432fab0b474a1f002370": {
          "model_module": "@jupyter-widgets/base",
          "model_name": "LayoutModel",
          "model_module_version": "1.2.0",
          "state": {
            "_model_module": "@jupyter-widgets/base",
            "_model_module_version": "1.2.0",
            "_model_name": "LayoutModel",
            "_view_count": null,
            "_view_module": "@jupyter-widgets/base",
            "_view_module_version": "1.2.0",
            "_view_name": "LayoutView",
            "align_content": null,
            "align_items": null,
            "align_self": null,
            "border": null,
            "bottom": null,
            "display": null,
            "flex": null,
            "flex_flow": null,
            "grid_area": null,
            "grid_auto_columns": null,
            "grid_auto_flow": null,
            "grid_auto_rows": null,
            "grid_column": null,
            "grid_gap": null,
            "grid_row": null,
            "grid_template_areas": null,
            "grid_template_columns": null,
            "grid_template_rows": null,
            "height": "150px",
            "justify_content": null,
            "justify_items": null,
            "left": null,
            "margin": null,
            "max_height": null,
            "max_width": null,
            "min_height": null,
            "min_width": null,
            "object_fit": null,
            "object_position": null,
            "order": null,
            "overflow": null,
            "overflow_x": null,
            "overflow_y": null,
            "padding": null,
            "right": null,
            "top": null,
            "visibility": null,
            "width": null
          }
        },
        "e8c1d9b6926d4fda848c6fa5ac27729b": {
          "model_module": "@jupyter-widgets/controls",
          "model_name": "DescriptionStyleModel",
          "model_module_version": "1.5.0",
          "state": {
            "_model_module": "@jupyter-widgets/controls",
            "_model_module_version": "1.5.0",
            "_model_name": "DescriptionStyleModel",
            "_view_count": null,
            "_view_module": "@jupyter-widgets/base",
            "_view_module_version": "1.2.0",
            "_view_name": "StyleView",
            "description_width": ""
          }
        },
        "bd97dd882d29474e8c5dd9a771e0bef1": {
          "model_module": "@jupyter-widgets/base",
          "model_name": "LayoutModel",
          "model_module_version": "1.2.0",
          "state": {
            "_model_module": "@jupyter-widgets/base",
            "_model_module_version": "1.2.0",
            "_model_name": "LayoutModel",
            "_view_count": null,
            "_view_module": "@jupyter-widgets/base",
            "_view_module_version": "1.2.0",
            "_view_name": "LayoutView",
            "align_content": null,
            "align_items": null,
            "align_self": null,
            "border": null,
            "bottom": null,
            "display": null,
            "flex": null,
            "flex_flow": null,
            "grid_area": null,
            "grid_auto_columns": null,
            "grid_auto_flow": null,
            "grid_auto_rows": null,
            "grid_column": null,
            "grid_gap": null,
            "grid_row": null,
            "grid_template_areas": null,
            "grid_template_columns": null,
            "grid_template_rows": null,
            "height": "150px",
            "justify_content": null,
            "justify_items": null,
            "left": null,
            "margin": null,
            "max_height": null,
            "max_width": null,
            "min_height": null,
            "min_width": null,
            "object_fit": null,
            "object_position": null,
            "order": null,
            "overflow": null,
            "overflow_x": null,
            "overflow_y": null,
            "padding": null,
            "right": null,
            "top": null,
            "visibility": null,
            "width": null
          }
        },
        "886f3abafb664e6cb8e6ba03ee127204": {
          "model_module": "@jupyter-widgets/controls",
          "model_name": "DescriptionStyleModel",
          "model_module_version": "1.5.0",
          "state": {
            "_model_module": "@jupyter-widgets/controls",
            "_model_module_version": "1.5.0",
            "_model_name": "DescriptionStyleModel",
            "_view_count": null,
            "_view_module": "@jupyter-widgets/base",
            "_view_module_version": "1.2.0",
            "_view_name": "StyleView",
            "description_width": ""
          }
        },
        "f4d6373e6e534a72b0ab9d6e88221f68": {
          "model_module": "@jupyter-widgets/base",
          "model_name": "LayoutModel",
          "model_module_version": "1.2.0",
          "state": {
            "_model_module": "@jupyter-widgets/base",
            "_model_module_version": "1.2.0",
            "_model_name": "LayoutModel",
            "_view_count": null,
            "_view_module": "@jupyter-widgets/base",
            "_view_module_version": "1.2.0",
            "_view_name": "LayoutView",
            "align_content": null,
            "align_items": null,
            "align_self": null,
            "border": null,
            "bottom": null,
            "display": null,
            "flex": null,
            "flex_flow": null,
            "grid_area": null,
            "grid_auto_columns": null,
            "grid_auto_flow": null,
            "grid_auto_rows": null,
            "grid_column": null,
            "grid_gap": null,
            "grid_row": null,
            "grid_template_areas": null,
            "grid_template_columns": null,
            "grid_template_rows": null,
            "height": null,
            "justify_content": null,
            "justify_items": null,
            "left": null,
            "margin": null,
            "max_height": null,
            "max_width": null,
            "min_height": null,
            "min_width": null,
            "object_fit": null,
            "object_position": null,
            "order": null,
            "overflow": null,
            "overflow_x": null,
            "overflow_y": null,
            "padding": null,
            "right": null,
            "top": null,
            "visibility": null,
            "width": null
          }
        }
      }
    }
  },
  "nbformat": 4,
  "nbformat_minor": 0
}